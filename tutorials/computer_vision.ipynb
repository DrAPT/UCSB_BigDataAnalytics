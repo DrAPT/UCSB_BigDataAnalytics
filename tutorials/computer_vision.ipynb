{
 "cells": [
  {
   "cell_type": "markdown",
   "metadata": {},
   "source": [
    "## Tutorial: Computer Vision Model Training\n",
    "\n",
    "### University of California, Santa Barbara  \n",
    "### PSTAT 135/235  \n",
    "### Last Updated: Oct 22, 2018\n",
    "\n",
    "---  \n",
    "\n",
    "### OBJECTIVES\n",
    "- Use keras to apply transfer learning to a convolutional neural net model for a computer vision task\n",
    "\n",
    "---  \n"
   ]
  },
  {
   "cell_type": "markdown",
   "metadata": {},
   "source": [
    "## Import Modules"
   ]
  },
  {
   "cell_type": "code",
   "execution_count": null,
   "metadata": {},
   "outputs": [],
   "source": [
    "from keras import applications\n",
    "from keras.preprocessing.image import ImageDataGenerator\n",
    "from keras import optimizers\n",
    "from keras.models import Sequential\n",
    "from keras.layers import Dropout, Dense\n",
    "from sklearn import metrics\n",
    "import time\n",
    "import numpy as np\n",
    "import os\n",
    "import sys\n",
    "import pickle\n",
    "import pandas as pd\n",
    "import json\n",
    "from PIL import ImageFile\n",
    "ImageFile.LOAD_TRUNCATED_IMAGES = True"
   ]
  },
  {
   "cell_type": "code",
   "execution_count": 5,
   "metadata": {},
   "outputs": [],
   "source": [
    "from PIL import ImageFile\n",
    "ImageFile.LOAD_TRUNCATED_IMAGES = True"
   ]
  },
  {
   "cell_type": "code",
   "execution_count": 1,
   "metadata": {},
   "outputs": [],
   "source": [
    "import requests "
   ]
  },
  {
   "cell_type": "markdown",
   "metadata": {},
   "source": [
    "## Function Definitions"
   ]
  },
  {
   "cell_type": "code",
   "execution_count": 12,
   "metadata": {},
   "outputs": [],
   "source": [
    "def setup_model_for_transfer_learning(src_model, size, pooling, dropout_fraction, learn_rate):\n",
    "    '''\n",
    "    model setup for transfer learning based on input source model\n",
    "    \n",
    "    INPUT\n",
    "    src_model         keras app\n",
    "    size              tuple(int) \n",
    "    pooling           str\n",
    "    dropout_fraction  float, dropout fraction\n",
    "    learn_rate        float, learning rate\n",
    "    \n",
    "    OUTPUT\n",
    "    model\n",
    "    '''\n",
    "\n",
    "    # fixed parameters\n",
    "    neurons_in_dense_layer_1 = 1024\n",
    "    loss_fcn = 'categorical_crossentropy'\n",
    "    output_classes = 2\n",
    "    \n",
    "    target_size = size + (3,)\n",
    "    source_model = src_model(input_shape=target_size, pooling=pooling, include_top=False, weights='imagenet')\n",
    "    \n",
    "    for layer in src_model.layers:\n",
    "        layer.trainable=False # this freezes layers for transfer learning\n",
    "    \n",
    "    # keras allows for sequentially adding layers to the source model\n",
    "    model = Sequential()\n",
    "    model.add(src_model)\n",
    "    model.add(Dense(neurons_in_dense_layer, activation='relu')) # rectified linear unit\n",
    "    model.add(Dropout(dropout_fraction))\n",
    "    model.add(Dense(output_classes, activation='softmax'))\n",
    "    opt = optimizers.Adam(lr = learn_rate)\n",
    "    model.compile(loss=loss_fcn, optimizer=opt, metrics=['accuracy'])\n",
    "\n",
    "    return model"
   ]
  },
  {
   "cell_type": "markdown",
   "metadata": {},
   "source": [
    "## Parameters"
   ]
  },
  {
   "cell_type": "code",
   "execution_count": 4,
   "metadata": {},
   "outputs": [],
   "source": [
    "train_data_dir = # enter path to training data here\n",
    "epochs = 50\n",
    "dropout_frac = 0.50\n",
    "batch_size = 100\n",
    "lr = 0.05\n",
    "pooling = 'max' # check this is vaid\n",
    "img_height = 224\n",
    "img_width = 244\n",
    "keras_app = applications.VGG16"
   ]
  },
  {
   "cell_type": "code",
   "execution_count": 8,
   "metadata": {},
   "outputs": [],
   "source": [
    "# determine train_samples here\n",
    "train_steps = train_samples / batch_size"
   ]
  },
  {
   "cell_type": "markdown",
   "metadata": {},
   "source": [
    "## Model setup"
   ]
  },
  {
   "cell_type": "code",
   "execution_count": 5,
   "metadata": {},
   "outputs": [],
   "source": [
    "print('\\n==== setting up model...')\n",
    "model = setup_model_for_transfer_learning(source_model=keras_app, \n",
    "                                        size=(img_height, img_width),\n",
    "                                        pooling = pooling,\n",
    "                                        dropout_fraction=dropout_frac,\n",
    "                                        learn_rate=lr)\n",
    "print('\\n==== completed setting up model.')"
   ]
  },
  {
   "cell_type": "markdown",
   "metadata": {},
   "source": [
    "## Data setup"
   ]
  },
  {
   "cell_type": "code",
   "execution_count": 6,
   "metadata": {},
   "outputs": [],
   "source": [
    "train_datagen = ImageDataGenerator()"
   ]
  },
  {
   "cell_type": "code",
   "execution_count": null,
   "metadata": {},
   "outputs": [],
   "source": [
    "train_generator = train_datagen.flow_from_directory(train_data_dir,\n",
    "                                                    target_size=(img_height, img_width),\n",
    "                                                    batch_size=batch_size,\n",
    "                                                    class_mode='categorical')"
   ]
  },
  {
   "cell_type": "markdown",
   "metadata": {},
   "source": [
    "## Fit Model"
   ]
  },
  {
   "cell_type": "code",
   "execution_count": null,
   "metadata": {},
   "outputs": [],
   "source": [
    "print('\\n==== begin fitting model...')\n",
    "model_train_start_time = time.time()\n",
    "model.fit_generator(train_generator,\n",
    "                    steps_per_epoch=train_steps,\n",
    "                    epochs=epochs)"
   ]
  },
  {
   "cell_type": "code",
   "execution_count": null,
   "metadata": {},
   "outputs": [],
   "source": []
  }
 ],
 "metadata": {
  "kernelspec": {
   "display_name": "Python 3",
   "language": "python",
   "name": "python3"
  },
  "language_info": {
   "codemirror_mode": {
    "name": "ipython",
    "version": 3
   },
   "file_extension": ".py",
   "mimetype": "text/x-python",
   "name": "python",
   "nbconvert_exporter": "python",
   "pygments_lexer": "ipython3",
   "version": "3.6.3"
  }
 },
 "nbformat": 4,
 "nbformat_minor": 2
}
