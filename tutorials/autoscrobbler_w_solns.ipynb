{
 "cells": [
  {
   "cell_type": "markdown",
   "metadata": {},
   "source": [
    "### University of California, Santa Barbara\n",
    "\n",
    "### PSTAT 135 / 235 - Big Data Analytics\n",
    "\n",
    "### Prof Tashman\n",
    "\n",
    "### PURPOSE: Build a recommendation algorithm based on user listening data from Autoscrobbler\n",
    "\n",
    "#### NOTE: This tutorial is for illustration of code and results only. It will not run, as data is not uploaded."
   ]
  },
  {
   "cell_type": "code",
   "execution_count": 1,
   "metadata": {},
   "outputs": [],
   "source": [
    "# import modules\n",
    "import os\n",
    "\n",
    "from pyspark import SparkContext\n",
    "from pyspark import SparkConf\n",
    "from pyspark.mllib import recommendation\n",
    "from pyspark.mllib.recommendation import *\n",
    "import pandas as pd"
   ]
  },
  {
   "cell_type": "code",
   "execution_count": 2,
   "metadata": {},
   "outputs": [],
   "source": [
    "# set configurations\n",
    "conf = SparkConf().setMaster(\"local\").setAppName(\"autoscrobbler\")"
   ]
  },
  {
   "cell_type": "code",
   "execution_count": 3,
   "metadata": {},
   "outputs": [],
   "source": [
    "# set context\n",
    "sc = SparkContext.getOrCreate(conf=conf)"
   ]
  },
  {
   "cell_type": "code",
   "execution_count": 4,
   "metadata": {},
   "outputs": [],
   "source": [
    "# pathing and params\n",
    "dir_data = '/data/'\n",
    "\n",
    "user_artist_data_file = 'user_artist_data.txt'\n",
    "artist_data_file = 'artist_data.txt'\n",
    "artist_alias_data_file  = 'artist_alias.txt'\n",
    "\n",
    "user_artist_full_path = os.path.join('data/',user_artist_data_file)\n",
    "artist_full_path = os.path.join('data/',artist_data_file)\n",
    "artist_alias_full_path = os.path.join('data/',artist_alias_data_file)\n",
    "\n",
    "numPartitions = 2\n",
    "topk = 10"
   ]
  },
  {
   "cell_type": "code",
   "execution_count": 5,
   "metadata": {},
   "outputs": [
    {
     "data": {
      "text/plain": [
       "data/user_artist_data.txt MapPartitionsRDD[1] at textFile at NativeMethodAccessorImpl.java:0"
      ]
     },
     "execution_count": 5,
     "metadata": {},
     "output_type": "execute_result"
    }
   ],
   "source": [
    "# read user_artist_data_file into RDD (417MB file, 24MM records of users’ plays of artists, along with count)\n",
    "# specifically, each row holds: userID, artistID, count\n",
    "rawDataRDD = sc.textFile(user_artist_full_path, numPartitions)\n",
    "rawDataRDD.cache()"
   ]
  },
  {
   "cell_type": "code",
   "execution_count": 6,
   "metadata": {},
   "outputs": [
    {
     "data": {
      "text/plain": [
       "data/artist_data.txt MapPartitionsRDD[3] at textFile at NativeMethodAccessorImpl.java:0"
      ]
     },
     "execution_count": 6,
     "metadata": {},
     "output_type": "execute_result"
    }
   ],
   "source": [
    "# read artist_data_file\n",
    "# artist = pd.read_csv( artist_full_path )\n",
    "rawArtistRDD = sc.textFile(artist_full_path, numPartitions)\n",
    "rawArtistRDD.cache()"
   ]
  },
  {
   "cell_type": "code",
   "execution_count": 7,
   "metadata": {},
   "outputs": [
    {
     "data": {
      "text/plain": [
       "data/artist_alias.txt MapPartitionsRDD[5] at textFile at NativeMethodAccessorImpl.java:0"
      ]
     },
     "execution_count": 7,
     "metadata": {},
     "output_type": "execute_result"
    }
   ],
   "source": [
    "# read artist_alias_data_file\n",
    "rawAliasRDD = sc.textFile(artist_alias_full_path, numPartitions)\n",
    "rawAliasRDD.cache()"
   ]
  },
  {
   "cell_type": "code",
   "execution_count": 8,
   "metadata": {},
   "outputs": [
    {
     "name": "stdout",
     "output_type": "stream",
     "text": [
      "['1000002 1 55', '1000002 1000006 33', '1000002 1000007 8', '1000002 1000009 144', '1000002 1000010 314', '1000002 1000013 8', '1000002 1000014 42', '1000002 1000017 69', '1000002 1000024 329', '1000002 1000025 1']\n"
     ]
    }
   ],
   "source": [
    "print(rawDataRDD.take(10))"
   ]
  },
  {
   "cell_type": "code",
   "execution_count": 9,
   "metadata": {},
   "outputs": [
    {
     "name": "stdout",
     "output_type": "stream",
     "text": [
      "['1134999\\t06Crazy Life', '6821360\\tPang Nakarin', '10113088\\tTerfel, Bartoli- Mozart: Don', '10151459\\tThe Flaming Sidebur', '6826647\\tBodenstandig 3000', '10186265\\tJota Quest e Ivete Sangalo', '6828986\\tToto_XX (1977', '10236364\\tU.S Bombs -', '1135000\\tartist formaly know as Mat', '10299728\\tKassierer - Musik für beide Ohren']\n"
     ]
    }
   ],
   "source": [
    "print(rawArtistRDD.take(10))"
   ]
  },
  {
   "cell_type": "code",
   "execution_count": 10,
   "metadata": {},
   "outputs": [],
   "source": [
    "def parseArtistIdNamePair(singlePair):\n",
    "   splitPair = singlePair.rsplit('\\t')\n",
    "   # we should have two items in the list - id and name of the artist.\n",
    "   if len(splitPair) != 2:\n",
    "       #print singlePair\n",
    "       return []\n",
    "   else:\n",
    "       try:\n",
    "           return [(int(splitPair[0]), splitPair[1])]\n",
    "       except:\n",
    "           return []\n"
   ]
  },
  {
   "cell_type": "code",
   "execution_count": 11,
   "metadata": {},
   "outputs": [],
   "source": [
    "artistByID = dict(rawArtistRDD.flatMap(lambda x: parseArtistIdNamePair(x)).collect())"
   ]
  },
  {
   "cell_type": "code",
   "execution_count": 12,
   "metadata": {},
   "outputs": [],
   "source": [
    "artist_vals = artistByID.values()"
   ]
  },
  {
   "cell_type": "code",
   "execution_count": 13,
   "metadata": {},
   "outputs": [
    {
     "name": "stdout",
     "output_type": "stream",
     "text": [
      "[('\"', 3), ('Rio Natsuki', 2), ('•', 2), ('Einojuhani Rautavaara', 2), ('Ò', 2), ('川田妙子', 2), ('The Beatnuts', 2), ('Stone Temple Pilots', 2), ('{', 2), ('º', 2)]\n"
     ]
    }
   ],
   "source": [
    "# print topk values from artistByID\n",
    "from collections import Counter\n",
    "print( Counter(artist_vals).most_common( topk ) )"
   ]
  },
  {
   "cell_type": "code",
   "execution_count": 14,
   "metadata": {},
   "outputs": [],
   "source": [
    "def parseArtistAlias(alias):\n",
    "    splitPair = alias.rsplit('\\t')\n",
    "    # we should have two items in the list - id and name of the artist.\n",
    "    if len(splitPair) != 2:\n",
    "        #print singlePair\n",
    "        return []\n",
    "    else:\n",
    "        try:\n",
    "            return [(int(splitPair[0]), int(splitPair[1]))]\n",
    "        except:\n",
    "            return []"
   ]
  },
  {
   "cell_type": "code",
   "execution_count": 15,
   "metadata": {},
   "outputs": [],
   "source": [
    "artistAlias = rawAliasRDD.flatMap(lambda x: parseArtistAlias(x)).collectAsMap()"
   ]
  },
  {
   "cell_type": "code",
   "execution_count": 16,
   "metadata": {},
   "outputs": [],
   "source": [
    "# turn the artistAlias into a broadcast variable.\n",
    "# This will distribute it to worker nodes efficiently, so we save bandwidth.\n",
    "artistAliasBroadcast = sc.broadcast( artistAlias )"
   ]
  },
  {
   "cell_type": "code",
   "execution_count": 17,
   "metadata": {},
   "outputs": [
    {
     "data": {
      "text/plain": [
       "1007797"
      ]
     },
     "execution_count": 17,
     "metadata": {},
     "output_type": "execute_result"
    }
   ],
   "source": [
    "artistAliasBroadcast.value.get(2097174)"
   ]
  },
  {
   "cell_type": "code",
   "execution_count": 18,
   "metadata": {},
   "outputs": [
    {
     "name": "stdout",
     "output_type": "stream",
     "text": [
      "24296858\n"
     ]
    }
   ],
   "source": [
    "# Print the number of records from the largest RDD, rawDataRDD\n",
    "print( rawDataRDD.count() )"
   ]
  },
  {
   "cell_type": "code",
   "execution_count": 19,
   "metadata": {},
   "outputs": [
    {
     "data": {
      "text/plain": [
       "PythonRDD[11] at RDD at PythonRDD.scala:48"
      ]
     },
     "execution_count": 19,
     "metadata": {},
     "output_type": "execute_result"
    }
   ],
   "source": [
    "# Sample 10% of rawDataRDD using seed 314, to reduce runtime. Call it sample.\n",
    "weights = [.1, .9]\n",
    "seed = 314\n",
    "sample, someOtherJunk = rawDataRDD.randomSplit( weights, seed )\n",
    "sample.cache()"
   ]
  },
  {
   "cell_type": "code",
   "execution_count": 20,
   "metadata": {},
   "outputs": [
    {
     "data": {
      "text/plain": [
       "['1000002 1000014 42',\n",
       " '1000002 1000088 157',\n",
       " '1000002 1000139 56',\n",
       " '1000002 1000140 95',\n",
       " '1000002 1000210 23']"
      ]
     },
     "execution_count": 20,
     "metadata": {},
     "output_type": "execute_result"
    }
   ],
   "source": [
    "# take the first 5 records from the sample. each row represents userID, artistID, count.\n",
    "sample.take(5)"
   ]
  },
  {
   "cell_type": "code",
   "execution_count": 21,
   "metadata": {},
   "outputs": [],
   "source": [
    "# Based on sampled data, build the matrix for model training\n",
    "def mapSingleObservation(x):\n",
    "    # Returns Rating object represented as (user, product, rating) tuple.\n",
    "    # [add line of code here to split each record into userID, artistID, count]\n",
    "    userID, artistID, count = map(lambda lineItem: int(lineItem), x.split())\n",
    "    # given possible aliasing, get finalArtistID\n",
    "    finalArtistID = artistAliasBroadcast.value.get(artistID)\n",
    "    if finalArtistID is None:\n",
    "        finalArtistID = artistID\n",
    "    return Rating(userID, finalArtistID, count)"
   ]
  },
  {
   "cell_type": "code",
   "execution_count": 22,
   "metadata": {},
   "outputs": [
    {
     "data": {
      "text/plain": [
       "PythonRDD[13] at RDD at PythonRDD.scala:48"
      ]
     },
     "execution_count": 22,
     "metadata": {},
     "output_type": "execute_result"
    }
   ],
   "source": [
    "trainData = sample.map(lambda x: mapSingleObservation(x))\n",
    "trainData.cache()"
   ]
  },
  {
   "cell_type": "code",
   "execution_count": 23,
   "metadata": {},
   "outputs": [
    {
     "data": {
      "text/plain": [
       "[Rating(user=1000002, product=1000014, rating=42.0),\n",
       " Rating(user=1000002, product=1000088, rating=157.0),\n",
       " Rating(user=1000002, product=1000139, rating=56.0),\n",
       " Rating(user=1000002, product=1000140, rating=95.0),\n",
       " Rating(user=1000002, product=1000210, rating=23.0)]"
      ]
     },
     "execution_count": 23,
     "metadata": {},
     "output_type": "execute_result"
    }
   ],
   "source": [
    "# Take the first 5 records from trainData\n",
    "trainData.take(5)"
   ]
  },
  {
   "cell_type": "markdown",
   "metadata": {},
   "source": [
    "**The Alternating Least Squares Algo is popular for recommendation**\n",
    "\n",
    "Parameters\n",
    "\n",
    "`rank`  \n",
    "The number of latent factors in the model\n",
    "\n",
    "`iterations`  \n",
    "The number of iterations that the factorization runs\n",
    "\n",
    "`lambda`  \n",
    "A standard overfitting parameter. Higher values resist overfitting.\n"
   ]
  },
  {
   "cell_type": "code",
   "execution_count": 25,
   "metadata": {},
   "outputs": [],
   "source": [
    "# Train the ALS model, using seed 314, rank 10, iterations 5, lambda_ 0.01\n",
    "model = ALS.trainImplicit(trainData, rank=10, iterations=5, alpha=0.01)"
   ]
  },
  {
   "cell_type": "code",
   "execution_count": 26,
   "metadata": {},
   "outputs": [
    {
     "data": {
      "text/plain": [
       "<pyspark.mllib.recommendation.MatrixFactorizationModel at 0x1076ffeb8>"
      ]
     },
     "execution_count": 26,
     "metadata": {},
     "output_type": "execute_result"
    }
   ],
   "source": [
    "model"
   ]
  },
  {
   "cell_type": "code",
   "execution_count": 27,
   "metadata": {},
   "outputs": [],
   "source": [
    "# Model Evaluation\n",
    "\n",
    "# fetch artists for a test user\n",
    "testUserID = 1000002\n",
    "\n",
    "# broadcast artistByID for speed\n",
    "artistByIDBroadcast = sc.broadcast( artistByID )\n",
    "\n",
    "# from trainData, collect the artists for the test user. Call the object artistsForUser.\n",
    "# hint: you will need to apply .value.get(x.product) to the broadcast artistByID, where x is the Rating RDD.\n",
    "# if you don't do this, you may see artistIDs. you want artist names.\n",
    "artistsForUser = (trainData\n",
    "                  .filter(lambda observation: observation.user == testUserID)\n",
    "                  .map(lambda observation: artistByIDBroadcast.value.get(observation.product))\n",
    "                  .collect())"
   ]
  },
  {
   "cell_type": "code",
   "execution_count": 28,
   "metadata": {},
   "outputs": [
    {
     "name": "stdout",
     "output_type": "stream",
     "text": [
      "['Pantera', 'Counting Crows', 'Muse', '(hed) Planet Earth', 'Eve 6', 'Meat Loaf', \"Fun Lovin' Criminals\", \"Guns N' Roses\", 'Mike & the Mechanics', 'Fugees', 'Apollo 440', 'The Seahorses', 'Steve Miller', 'John Mayer', 'Frankie Goes To Hollywood', 'Derek and the Dominos', '[unknown]', 'Jeno Jando', 'Eva Cassidy', 'Faith No More', 'Jimi Hendrix', 'Duke Ellington and Johnny Hodg', 'Eric Clapton', 'Tom Waits', 'Tindersticks', 'Phil Collins', 'David Bowie', 'Eurythmics', 'Dream Theater', 'Kid Rock']\n"
     ]
    }
   ],
   "source": [
    "print(artistsForUser)"
   ]
  },
  {
   "cell_type": "code",
   "execution_count": 33,
   "metadata": {},
   "outputs": [
    {
     "name": "stdout",
     "output_type": "stream",
     "text": [
      "<map object at 0x11fdb9978>\n"
     ]
    }
   ],
   "source": [
    "# Make 10 recommendations for test user\n",
    "num_recomm = 10\n",
    "recommendationsForUser = map(lambda observation: artistByID.get(observation.product), model.call(\"recommendProducts\", testUserID, num_recomm))\n",
    "print(recommendationsForUser)"
   ]
  },
  {
   "cell_type": "code",
   "execution_count": 30,
   "metadata": {},
   "outputs": [],
   "source": [
    "# Train a second ALS model, same as first but with rank 20\n",
    "model2 = ALS.trainImplicit(trainData, rank=20, iterations=5, alpha=0.01)"
   ]
  },
  {
   "cell_type": "code",
   "execution_count": 31,
   "metadata": {},
   "outputs": [
    {
     "name": "stdout",
     "output_type": "stream",
     "text": [
      "<map object at 0x11fd8dac8>\n"
     ]
    }
   ],
   "source": [
    "# Using the rank 20 model, make 10 recommendations for the same test user\n",
    "recommendationsForUser_rank20 = map(lambda observation: artistByID.get(observation.product), model.call(\"recommendProducts\", testUserID, num_recomm))\n",
    "print(recommendationsForUser_rank20)"
   ]
  },
  {
   "cell_type": "code",
   "execution_count": null,
   "metadata": {},
   "outputs": [],
   "source": []
  }
 ],
 "metadata": {
  "kernelspec": {
   "display_name": "Python 3",
   "language": "python",
   "name": "python3"
  },
  "language_info": {
   "codemirror_mode": {
    "name": "ipython",
    "version": 3
   },
   "file_extension": ".py",
   "mimetype": "text/x-python",
   "name": "python",
   "nbconvert_exporter": "python",
   "pygments_lexer": "ipython3",
   "version": "3.6.8"
  }
 },
 "nbformat": 4,
 "nbformat_minor": 1
}
