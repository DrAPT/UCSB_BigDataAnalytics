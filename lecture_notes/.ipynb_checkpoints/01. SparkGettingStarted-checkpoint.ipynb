{
 "cells": [
  {
   "cell_type": "markdown",
   "metadata": {},
   "source": [
    "## Spark Getting Started\n",
    "\n",
    "### University of California, Santa Barbara  \n",
    "### PSTAT 135/235  \n",
    "### Last Updated: Oct 18, 2018\n",
    "\n",
    "---  \n",
    "\n",
    "\n",
    "Source: Learning Spark\n",
    "\n",
    "Chapter 1: Introduction to Data Analysis with Spark  \n",
    "Chapter 2: Getting Started\n",
    "\n",
    "### OBJECTIVES\n",
    "-  Spark background\n",
    "-  Setup and installation\n",
    "-  Basic concepts\n",
    "-  Minimal code examples\n",
    "-  Running Spark: Interactive Session\n",
    "-  Running Spark: Command Line\n",
    "\n",
    "### CONCEPTS\n",
    "\n",
    "- Functional programming\n",
    "\n",
    "- SparkSession - single point of entry to interact w Spark functionality\n",
    "\n",
    "- SparkContext - used as entry points, from Spark 1.0\n",
    "\n",
    "- Resilient Distributed Datasets (RDDs) - Spark’s fundamental abstraction for distributed data and computation\n",
    "\n",
    "- Dataset\n",
    "\n",
    "- Driver Program - contains application main function, defines RDDs on cluster, applies operations to them.\n",
    "\n",
    "- Worker Node or Executor - the units that perform tasks\n",
    "\n",
    "---\n",
    "\n",
    "*Spark Background*\n",
    "\n",
    "- Designed to be fast  \n",
    "no waiting around for hours, need to work interactively with data  \n",
    "\n",
    "\n",
    "- Designed to handle big data\n",
    "\n",
    "\n",
    "- General Purpose  \n",
    "Unlike Hadoop, several modules in one place, such as machine learning, batch, queries, streaming\n",
    "\n",
    "\n",
    "- Caching is possible, so intermediate data can be stored in memory on workers\n",
    "\n",
    "\n",
    "- Highly accessible:simple APIs to Python, Java, Scala, R, SQL  \n",
    "Integrates w other Big Data tools such as Hadoop, Cassandra  \n",
    "Can access HDFS data, Amazon S3, and others\n",
    "\n",
    "\n",
    "**Documentation from README**  \n",
    "You can find the latest Spark documentation, including a programming\n",
    "guide, on the [project web page](http://spark.apache.org/documentation.html).\n",
    "\n",
    "For general development tips, including info on developing Spark using an IDE, see   \n",
    "[http://spark.apache.org/developer-tools.html](the Useful Developer Tools page).\n",
    "\n",
    "Spark also comes with several sample programs in the `examples` directory.  \n",
    "To run one of them in a shell, use `./bin/run-example <class> [params]`.  \n",
    "\n",
    "For example:"
   ]
  },
  {
   "cell_type": "code",
   "execution_count": null,
   "metadata": {},
   "outputs": [],
   "source": [
    "./bin/run-example SparkPi"
   ]
  },
  {
   "cell_type": "markdown",
   "metadata": {},
   "source": [
    "will run the Pi example locally.\n",
    "\n",
    "**Install**  \n",
    "\n",
    "Page 9 provides step-by-step download and install instructions\n",
    "\n",
    "Depends:\n",
    "1. Python needs to be installed\n",
    "2. Java 6 or higher needs to be installed\n",
    "\n",
    "Change logging level (Page 12), change from: \n",
    "\n",
    "log4j.rootCategory=INFO  \n",
    "\n",
    "To  \n",
    "\n",
    "log4j.rootCategory=WARN  \n",
    "\n",
    "# Interactive Python shell\n",
    "\n",
    "From installed location and using ($) to denote prompt:\n"
   ]
  },
  {
   "cell_type": "code",
   "execution_count": null,
   "metadata": {},
   "outputs": [],
   "source": [
    "$ bin\\pyspark"
   ]
  },
  {
   "cell_type": "markdown",
   "metadata": {},
   "source": [
    "Set up a minimal case Spark Session:\n",
    "- using the local machine as master\n",
    "- naming the app"
   ]
  },
  {
   "cell_type": "code",
   "execution_count": 25,
   "metadata": {},
   "outputs": [],
   "source": [
    "from pyspark.sql import SparkSession\n",
    "\n",
    "spark = SparkSession.builder \\\n",
    "        .master(\"local\") \\\n",
    "        .appName(\"pspark_test\") \\\n",
    "        .getOrCreate()"
   ]
  },
  {
   "cell_type": "code",
   "execution_count": 26,
   "metadata": {},
   "outputs": [
    {
     "data": {
      "text/html": [
       "\n",
       "            <div>\n",
       "                <p><b>SparkSession - in-memory</b></p>\n",
       "                \n",
       "        <div>\n",
       "            <p><b>SparkContext</b></p>\n",
       "\n",
       "            <p><a href=\"http://5b2d7f2b6613:4040\">Spark UI</a></p>\n",
       "\n",
       "            <dl>\n",
       "              <dt>Version</dt>\n",
       "                <dd><code>v2.3.1</code></dd>\n",
       "              <dt>Master</dt>\n",
       "                <dd><code>local</code></dd>\n",
       "              <dt>AppName</dt>\n",
       "                <dd><code>pspark_test</code></dd>\n",
       "            </dl>\n",
       "        </div>\n",
       "        \n",
       "            </div>\n",
       "        "
      ],
      "text/plain": [
       "<pyspark.sql.session.SparkSession at 0x7fe3854a5128>"
      ]
     },
     "execution_count": 26,
     "metadata": {},
     "output_type": "execute_result"
    }
   ],
   "source": [
    "# print info about the session\n",
    "spark"
   ]
  },
  {
   "cell_type": "code",
   "execution_count": 108,
   "metadata": {},
   "outputs": [],
   "source": [
    "sc = spark.sparkContext"
   ]
  },
  {
   "cell_type": "markdown",
   "metadata": {},
   "source": [
    "\n",
    "### RDDs and Datasets\n",
    "\n",
    "Before Spark 2.0, the main programming interface of Spark was the *Resilient Distributed Dataset (RDD)*.  \n",
    "\n",
    "After Spark 2.0, RDDs are replaced by *Dataset*, which is strongly-typed like an RDD, but with richer optimizations under the hood. \n",
    "\n",
    "The RDD interface is still supported  \n",
    "\n",
    "Using Dataset is recommended, and it has better performance than RDD."
   ]
  },
  {
   "cell_type": "markdown",
   "metadata": {},
   "source": [
    "## Computing\n",
    "\n",
    "### Example 1: Read lines from text file"
   ]
  },
  {
   "cell_type": "code",
   "execution_count": 27,
   "metadata": {},
   "outputs": [],
   "source": [
    "import os"
   ]
  },
  {
   "cell_type": "code",
   "execution_count": 28,
   "metadata": {},
   "outputs": [],
   "source": [
    "data_path = '/home/jovyan/work/data/'"
   ]
  },
  {
   "cell_type": "code",
   "execution_count": 78,
   "metadata": {},
   "outputs": [],
   "source": [
    "data_filename = 'README.md'"
   ]
  },
  {
   "cell_type": "code",
   "execution_count": 101,
   "metadata": {},
   "outputs": [],
   "source": [
    "lines = spark.read.text(os.path.join(data_path, data_filename))"
   ]
  },
  {
   "cell_type": "code",
   "execution_count": 102,
   "metadata": {},
   "outputs": [
    {
     "data": {
      "text/plain": [
       "103"
      ]
     },
     "execution_count": 102,
     "metadata": {},
     "output_type": "execute_result"
    }
   ],
   "source": [
    "lines.count()"
   ]
  },
  {
   "cell_type": "code",
   "execution_count": 103,
   "metadata": {},
   "outputs": [
    {
     "data": {
      "text/plain": [
       "Row(value='# Apache Spark')"
      ]
     },
     "execution_count": 103,
     "metadata": {},
     "output_type": "execute_result"
    }
   ],
   "source": [
    "lines.first()"
   ]
  },
  {
   "cell_type": "code",
   "execution_count": null,
   "metadata": {},
   "outputs": [],
   "source": [
    "lines.collect()"
   ]
  },
  {
   "cell_type": "code",
   "execution_count": 83,
   "metadata": {},
   "outputs": [
    {
     "data": {
      "text/plain": [
       "list"
      ]
     },
     "execution_count": 83,
     "metadata": {},
     "output_type": "execute_result"
    }
   ],
   "source": [
    "type(lines.collect())"
   ]
  },
  {
   "cell_type": "code",
   "execution_count": 87,
   "metadata": {},
   "outputs": [
    {
     "data": {
      "text/plain": [
       "pyspark.sql.types.Row"
      ]
     },
     "execution_count": 87,
     "metadata": {},
     "output_type": "execute_result"
    }
   ],
   "source": [
    "type(lines.collect()[0])"
   ]
  },
  {
   "cell_type": "markdown",
   "metadata": {},
   "source": [
    "### Example 2: Text Search  - print all lines containing “Spark”"
   ]
  },
  {
   "cell_type": "code",
   "execution_count": 96,
   "metadata": {},
   "outputs": [
    {
     "data": {
      "text/plain": [
       "['value']"
      ]
     },
     "execution_count": 96,
     "metadata": {},
     "output_type": "execute_result"
    }
   ],
   "source": [
    "spark_lines.columns"
   ]
  },
  {
   "cell_type": "code",
   "execution_count": 88,
   "metadata": {},
   "outputs": [],
   "source": [
    "spark_lines = lines.filter(lines.value.contains(\"Spark\"))"
   ]
  },
  {
   "cell_type": "code",
   "execution_count": 89,
   "metadata": {},
   "outputs": [
    {
     "data": {
      "text/plain": [
       "[Row(value='# Apache Spark'),\n",
       " Row(value='Spark is a fast and general cluster computing system for Big Data. It provides'),\n",
       " Row(value='rich set of higher-level tools including Spark SQL for SQL and DataFrames,'),\n",
       " Row(value='and Spark Streaming for stream processing.'),\n",
       " Row(value='You can find the latest Spark documentation, including a programming')]"
      ]
     },
     "execution_count": 89,
     "metadata": {},
     "output_type": "execute_result"
    }
   ],
   "source": [
    "# return list of first 5 records\n",
    "spark_lines.take(5)   "
   ]
  },
  {
   "cell_type": "code",
   "execution_count": 90,
   "metadata": {},
   "outputs": [
    {
     "data": {
      "text/plain": [
       "pyspark.sql.dataframe.DataFrame"
      ]
     },
     "execution_count": 90,
     "metadata": {},
     "output_type": "execute_result"
    }
   ],
   "source": [
    "type(spark_lines)"
   ]
  },
  {
   "cell_type": "markdown",
   "metadata": {},
   "source": [
    "### Example 3: Word Count"
   ]
  },
  {
   "cell_type": "code",
   "execution_count": 113,
   "metadata": {},
   "outputs": [],
   "source": [
    "# Read the file into an RDD\n",
    "lines = sc.textFile(os.path.join(data_path, data_filename))"
   ]
  },
  {
   "cell_type": "code",
   "execution_count": 114,
   "metadata": {},
   "outputs": [
    {
     "data": {
      "text/plain": [
       "pyspark.rdd.RDD"
      ]
     },
     "execution_count": 114,
     "metadata": {},
     "output_type": "execute_result"
    }
   ],
   "source": [
    "type(lines)"
   ]
  },
  {
   "cell_type": "code",
   "execution_count": 116,
   "metadata": {},
   "outputs": [],
   "source": [
    "words = lines.flatMap(lambda x: x.split())"
   ]
  },
  {
   "cell_type": "code",
   "execution_count": 121,
   "metadata": {},
   "outputs": [
    {
     "data": {
      "text/plain": [
       "['#', 'Apache', 'Spark', 'Spark', 'is']"
      ]
     },
     "execution_count": 121,
     "metadata": {},
     "output_type": "execute_result"
    }
   ],
   "source": [
    "words.take(5)"
   ]
  },
  {
   "cell_type": "code",
   "execution_count": 122,
   "metadata": {},
   "outputs": [],
   "source": [
    "wordcounts = words.map(lambda x: (x, 1)) \\\n",
    "                  .reduceByKey(lambda x,y:x+y) \\\n",
    "                  .map(lambda x:(x[1],x[0])) \\\n",
    "                  .sortByKey(False)"
   ]
  },
  {
   "cell_type": "code",
   "execution_count": 124,
   "metadata": {},
   "outputs": [
    {
     "data": {
      "text/plain": [
       "[(24, 'the'),\n",
       " (17, 'to'),\n",
       " (16, 'Spark'),\n",
       " (12, 'for'),\n",
       " (9, 'and'),\n",
       " (9, '##'),\n",
       " (8, 'a'),\n",
       " (7, 'can'),\n",
       " (7, 'on'),\n",
       " (7, 'run')]"
      ]
     },
     "execution_count": 124,
     "metadata": {},
     "output_type": "execute_result"
    }
   ],
   "source": [
    "wordcounts.take(10)"
   ]
  }
 ],
 "metadata": {
  "kernelspec": {
   "display_name": "Python 3",
   "language": "python",
   "name": "python3"
  },
  "language_info": {
   "codemirror_mode": {
    "name": "ipython",
    "version": 3
   },
   "file_extension": ".py",
   "mimetype": "text/x-python",
   "name": "python",
   "nbconvert_exporter": "python",
   "pygments_lexer": "ipython3",
   "version": "3.6.3"
  }
 },
 "nbformat": 4,
 "nbformat_minor": 2
}
