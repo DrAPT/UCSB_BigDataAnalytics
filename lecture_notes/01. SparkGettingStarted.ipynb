{
 "cells": [
  {
   "cell_type": "markdown",
   "metadata": {},
   "source": [
    "## Spark Getting Started\n",
    "\n",
    "### University of California, Santa Barbara  \n",
    "### PSTAT 135/235: Big Data Analytics\n",
    "### Last Updated: January 29, 2019\n",
    "\n",
    "---  \n",
    "\n",
    "\n",
    "Source: Learning Spark\n",
    "\n",
    "Chapter 1: Introduction to Data Analysis with Spark  \n",
    "Chapter 2: Getting Started\n",
    "\n",
    "### OBJECTIVES\n",
    "-  Spark background\n",
    "-  Setup and installation\n",
    "-  Basic concepts\n",
    "-  Minimal code examples\n",
    "-  Running Spark: Interactive Session\n",
    "-  Running Spark: Command Line\n",
    "\n",
    "### CONCEPTS\n",
    "\n",
    "- Functional programming\n",
    "\n",
    "- SparkSession - single point of entry to interact w Spark functionality\n",
    "\n",
    "- SparkContext - used as entry points, from Spark 1.0\n",
    "\n",
    "- Resilient Distributed Datasets (RDDs) - Spark’s fundamental abstraction for distributed data and computation\n",
    "\n",
    "- Dataset\n",
    "\n",
    "- Driver Program - contains application main function, defines RDDs on cluster, applies operations to them.\n",
    "\n",
    "- Worker Node or Executor - the units that perform tasks\n",
    "\n",
    "---\n",
    "\n",
    "*Spark Background*\n",
    "\n",
    "- Designed to be fast  \n",
    "no waiting around for hours, need to work interactively with data  \n",
    "\n",
    "\n",
    "- Designed to handle big data\n",
    "\n",
    "\n",
    "- General Purpose  \n",
    "Unlike Hadoop, several modules in one place, such as machine learning, batch, queries, streaming\n",
    "\n",
    "\n",
    "- Caching is possible, so intermediate data can be stored in memory on workers\n",
    "\n",
    "\n",
    "- Highly accessible:simple APIs to Python, Java, Scala, R, SQL  \n",
    "Integrates w other Big Data tools such as Hadoop, Cassandra  \n",
    "Can access HDFS data, Amazon S3, and others\n",
    "\n",
    "\n",
    "**Documentation from README**  \n",
    "You can find the latest Spark documentation, including a programming\n",
    "guide, on the [project web page](http://spark.apache.org/documentation.html).\n",
    "\n",
    "For general development tips, including info on developing Spark using an IDE, see   \n",
    "[http://spark.apache.org/developer-tools.html](the Useful Developer Tools page).\n",
    "\n",
    "Spark also comes with several sample programs in the `examples` directory.  \n",
    "To run one of them in a shell, use `./bin/run-example <class> [params]`.  \n",
    "\n",
    "For example:"
   ]
  },
  {
   "cell_type": "code",
   "execution_count": null,
   "metadata": {},
   "outputs": [],
   "source": [
    "./bin/run-example SparkPi"
   ]
  },
  {
   "cell_type": "markdown",
   "metadata": {},
   "source": [
    "will run the Pi example locally.\n",
    "\n",
    "**Install**  \n",
    "\n",
    "Page 9 provides step-by-step download and install instructions\n",
    "\n",
    "Depends:\n",
    "1. Python needs to be installed\n",
    "2. Java 6 or higher needs to be installed\n",
    "\n",
    "Change logging level (Page 12), change from: \n",
    "\n",
    "log4j.rootCategory=INFO  \n",
    "\n",
    "To  \n",
    "\n",
    "log4j.rootCategory=WARN  \n",
    "\n",
    "# Interactive Python shell\n",
    "\n",
    "From installed location and using ($) to denote prompt:\n"
   ]
  },
  {
   "cell_type": "code",
   "execution_count": null,
   "metadata": {},
   "outputs": [],
   "source": [
    "$ bin\\pyspark"
   ]
  },
  {
   "cell_type": "markdown",
   "metadata": {},
   "source": [
    "Set up a minimal case Spark Session:\n",
    "- using the local machine as master\n",
    "- naming the app"
   ]
  },
  {
   "cell_type": "code",
   "execution_count": 1,
   "metadata": {},
   "outputs": [],
   "source": [
    "from pyspark.sql import SparkSession\n",
    "\n",
    "spark = SparkSession.builder \\\n",
    "        .master(\"local\") \\\n",
    "        .appName(\"pspark_test\") \\\n",
    "        .getOrCreate()"
   ]
  },
  {
   "cell_type": "code",
   "execution_count": 2,
   "metadata": {},
   "outputs": [
    {
     "data": {
      "text/html": [
       "\n",
       "            <div>\n",
       "                <p><b>SparkSession - in-memory</b></p>\n",
       "                \n",
       "        <div>\n",
       "            <p><b>SparkContext</b></p>\n",
       "\n",
       "            <p><a href=\"http://jupyter-adamtashman314:4040\">Spark UI</a></p>\n",
       "\n",
       "            <dl>\n",
       "              <dt>Version</dt>\n",
       "                <dd><code>v2.3.1</code></dd>\n",
       "              <dt>Master</dt>\n",
       "                <dd><code>local</code></dd>\n",
       "              <dt>AppName</dt>\n",
       "                <dd><code>pspark_test</code></dd>\n",
       "            </dl>\n",
       "        </div>\n",
       "        \n",
       "            </div>\n",
       "        "
      ],
      "text/plain": [
       "<pyspark.sql.session.SparkSession at 0x7f61a013fcc0>"
      ]
     },
     "execution_count": 2,
     "metadata": {},
     "output_type": "execute_result"
    }
   ],
   "source": [
    "# print info about the session\n",
    "spark"
   ]
  },
  {
   "cell_type": "code",
   "execution_count": 4,
   "metadata": {},
   "outputs": [],
   "source": [
    "sc = spark.sparkContext"
   ]
  },
  {
   "cell_type": "markdown",
   "metadata": {},
   "source": [
    "\n",
    "### RDDs and Datasets\n",
    "\n",
    "Before Spark 2.0, the main programming interface of Spark was the *Resilient Distributed Dataset (RDD)*.  \n",
    "\n",
    "After Spark 2.0, RDDs are replaced by *Dataset*, which is strongly-typed like an RDD, but with richer optimizations under the hood. \n",
    "\n",
    "The RDD interface is still supported  \n",
    "\n",
    "Using Dataset is recommended, and it has better performance than RDD."
   ]
  },
  {
   "cell_type": "markdown",
   "metadata": {},
   "source": [
    "## Computing\n",
    "\n",
    "### Example 1: Read lines from text file"
   ]
  },
  {
   "cell_type": "code",
   "execution_count": 5,
   "metadata": {},
   "outputs": [],
   "source": [
    "import os"
   ]
  },
  {
   "cell_type": "code",
   "execution_count": 6,
   "metadata": {},
   "outputs": [],
   "source": [
    "data_path = '/home/jovyan/UCSB_BigDataAnalytics/data/'"
   ]
  },
  {
   "cell_type": "code",
   "execution_count": 7,
   "metadata": {},
   "outputs": [],
   "source": [
    "data_filename = 'README.md'"
   ]
  },
  {
   "cell_type": "code",
   "execution_count": 8,
   "metadata": {},
   "outputs": [],
   "source": [
    "lines = spark.read.text(os.path.join(data_path, data_filename))"
   ]
  },
  {
   "cell_type": "code",
   "execution_count": 9,
   "metadata": {},
   "outputs": [
    {
     "data": {
      "text/plain": [
       "103"
      ]
     },
     "execution_count": 9,
     "metadata": {},
     "output_type": "execute_result"
    }
   ],
   "source": [
    "lines.count()"
   ]
  },
  {
   "cell_type": "code",
   "execution_count": 10,
   "metadata": {},
   "outputs": [
    {
     "data": {
      "text/plain": [
       "Row(value='# Apache Spark')"
      ]
     },
     "execution_count": 10,
     "metadata": {},
     "output_type": "execute_result"
    }
   ],
   "source": [
    "lines.first()"
   ]
  },
  {
   "cell_type": "code",
   "execution_count": 11,
   "metadata": {},
   "outputs": [
    {
     "data": {
      "text/plain": [
       "[Row(value='# Apache Spark'),\n",
       " Row(value=''),\n",
       " Row(value='Spark is a fast and general cluster computing system for Big Data. It provides'),\n",
       " Row(value='high-level APIs in Scala, Java, Python, and R, and an optimized engine that'),\n",
       " Row(value='supports general computation graphs for data analysis. It also supports a'),\n",
       " Row(value='rich set of higher-level tools including Spark SQL for SQL and DataFrames,'),\n",
       " Row(value='MLlib for machine learning, GraphX for graph processing,'),\n",
       " Row(value='and Spark Streaming for stream processing.'),\n",
       " Row(value=''),\n",
       " Row(value='<http://spark.apache.org/>'),\n",
       " Row(value=''),\n",
       " Row(value=''),\n",
       " Row(value='## Online Documentation'),\n",
       " Row(value=''),\n",
       " Row(value='You can find the latest Spark documentation, including a programming'),\n",
       " Row(value='guide, on the [project web page](http://spark.apache.org/documentation.html).'),\n",
       " Row(value='This README file only contains basic setup instructions.'),\n",
       " Row(value=''),\n",
       " Row(value='## Building Spark'),\n",
       " Row(value=''),\n",
       " Row(value='Spark is built using [Apache Maven](http://maven.apache.org/).'),\n",
       " Row(value='To build Spark and its example programs, run:'),\n",
       " Row(value=''),\n",
       " Row(value='    build/mvn -DskipTests clean package'),\n",
       " Row(value=''),\n",
       " Row(value='(You do not need to do this if you downloaded a pre-built package.)'),\n",
       " Row(value=''),\n",
       " Row(value='You can build Spark using more than one thread by using the -T option with Maven, see [\"Parallel builds in Maven 3\"](https://cwiki.apache.org/confluence/display/MAVEN/Parallel+builds+in+Maven+3).'),\n",
       " Row(value='More detailed documentation is available from the project site, at'),\n",
       " Row(value='[\"Building Spark\"](http://spark.apache.org/docs/latest/building-spark.html).'),\n",
       " Row(value=''),\n",
       " Row(value='For general development tips, including info on developing Spark using an IDE, see [\"Useful Developer Tools\"](http://spark.apache.org/developer-tools.html).'),\n",
       " Row(value=''),\n",
       " Row(value='## Interactive Scala Shell'),\n",
       " Row(value=''),\n",
       " Row(value='The easiest way to start using Spark is through the Scala shell:'),\n",
       " Row(value=''),\n",
       " Row(value='    ./bin/spark-shell'),\n",
       " Row(value=''),\n",
       " Row(value='Try the following command, which should return 1000:'),\n",
       " Row(value=''),\n",
       " Row(value='    scala> sc.parallelize(1 to 1000).count()'),\n",
       " Row(value=''),\n",
       " Row(value='## Interactive Python Shell'),\n",
       " Row(value=''),\n",
       " Row(value='Alternatively, if you prefer Python, you can use the Python shell:'),\n",
       " Row(value=''),\n",
       " Row(value='    ./bin/pyspark'),\n",
       " Row(value=''),\n",
       " Row(value='And run the following command, which should also return 1000:'),\n",
       " Row(value=''),\n",
       " Row(value='    >>> sc.parallelize(range(1000)).count()'),\n",
       " Row(value=''),\n",
       " Row(value='## Example Programs'),\n",
       " Row(value=''),\n",
       " Row(value='Spark also comes with several sample programs in the `examples` directory.'),\n",
       " Row(value='To run one of them, use `./bin/run-example <class> [params]`. For example:'),\n",
       " Row(value=''),\n",
       " Row(value='    ./bin/run-example SparkPi'),\n",
       " Row(value=''),\n",
       " Row(value='will run the Pi example locally.'),\n",
       " Row(value=''),\n",
       " Row(value='You can set the MASTER environment variable when running examples to submit'),\n",
       " Row(value='examples to a cluster. This can be a mesos:// or spark:// URL,'),\n",
       " Row(value='\"yarn\" to run on YARN, and \"local\" to run'),\n",
       " Row(value='locally with one thread, or \"local[N]\" to run locally with N threads. You'),\n",
       " Row(value='can also use an abbreviated class name if the class is in the `examples`'),\n",
       " Row(value='package. For instance:'),\n",
       " Row(value=''),\n",
       " Row(value='    MASTER=spark://host:7077 ./bin/run-example SparkPi'),\n",
       " Row(value=''),\n",
       " Row(value='Many of the example programs print usage help if no params are given.'),\n",
       " Row(value=''),\n",
       " Row(value='## Running Tests'),\n",
       " Row(value=''),\n",
       " Row(value='Testing first requires [building Spark](#building-spark). Once Spark is built, tests'),\n",
       " Row(value='can be run using:'),\n",
       " Row(value=''),\n",
       " Row(value='    ./dev/run-tests'),\n",
       " Row(value=''),\n",
       " Row(value='Please see the guidance on how to'),\n",
       " Row(value='[run tests for a module, or individual tests](http://spark.apache.org/developer-tools.html#individual-tests).'),\n",
       " Row(value=''),\n",
       " Row(value='## A Note About Hadoop Versions'),\n",
       " Row(value=''),\n",
       " Row(value='Spark uses the Hadoop core library to talk to HDFS and other Hadoop-supported'),\n",
       " Row(value='storage systems. Because the protocols have changed in different versions of'),\n",
       " Row(value='Hadoop, you must build Spark against the same version that your cluster runs.'),\n",
       " Row(value=''),\n",
       " Row(value='Please refer to the build documentation at'),\n",
       " Row(value='[\"Specifying the Hadoop Version\"](http://spark.apache.org/docs/latest/building-spark.html#specifying-the-hadoop-version)'),\n",
       " Row(value='for detailed guidance on building for a particular distribution of Hadoop, including'),\n",
       " Row(value='building for particular Hive and Hive Thriftserver distributions.'),\n",
       " Row(value=''),\n",
       " Row(value='## Configuration'),\n",
       " Row(value=''),\n",
       " Row(value='Please refer to the [Configuration Guide](http://spark.apache.org/docs/latest/configuration.html)'),\n",
       " Row(value='in the online documentation for an overview on how to configure Spark.'),\n",
       " Row(value=''),\n",
       " Row(value='## Contributing'),\n",
       " Row(value=''),\n",
       " Row(value='Please review the [Contribution to Spark guide](http://spark.apache.org/contributing.html)'),\n",
       " Row(value='for information on how to get started contributing to the project.')]"
      ]
     },
     "execution_count": 11,
     "metadata": {},
     "output_type": "execute_result"
    }
   ],
   "source": [
    "lines.collect()"
   ]
  },
  {
   "cell_type": "code",
   "execution_count": 12,
   "metadata": {},
   "outputs": [
    {
     "data": {
      "text/plain": [
       "list"
      ]
     },
     "execution_count": 12,
     "metadata": {},
     "output_type": "execute_result"
    }
   ],
   "source": [
    "type(lines.collect())"
   ]
  },
  {
   "cell_type": "code",
   "execution_count": 15,
   "metadata": {},
   "outputs": [
    {
     "data": {
      "text/plain": [
       "pyspark.sql.types.Row"
      ]
     },
     "execution_count": 15,
     "metadata": {},
     "output_type": "execute_result"
    }
   ],
   "source": [
    "type(lines.collect()[0])"
   ]
  },
  {
   "cell_type": "markdown",
   "metadata": {},
   "source": [
    "### Example 2: Text Search  - print all lines containing “Spark”"
   ]
  },
  {
   "cell_type": "code",
   "execution_count": 21,
   "metadata": {},
   "outputs": [],
   "source": [
    "spark_lines = lines.filter(lines.value.contains(\"Spark\"))"
   ]
  },
  {
   "cell_type": "code",
   "execution_count": 22,
   "metadata": {},
   "outputs": [
    {
     "data": {
      "text/plain": [
       "[Row(value='# Apache Spark'),\n",
       " Row(value='Spark is a fast and general cluster computing system for Big Data. It provides'),\n",
       " Row(value='rich set of higher-level tools including Spark SQL for SQL and DataFrames,'),\n",
       " Row(value='and Spark Streaming for stream processing.'),\n",
       " Row(value='You can find the latest Spark documentation, including a programming')]"
      ]
     },
     "execution_count": 22,
     "metadata": {},
     "output_type": "execute_result"
    }
   ],
   "source": [
    "# return list of first 5 records\n",
    "spark_lines.take(5)   "
   ]
  },
  {
   "cell_type": "code",
   "execution_count": 23,
   "metadata": {},
   "outputs": [
    {
     "data": {
      "text/plain": [
       "pyspark.sql.dataframe.DataFrame"
      ]
     },
     "execution_count": 23,
     "metadata": {},
     "output_type": "execute_result"
    }
   ],
   "source": [
    "type(spark_lines)"
   ]
  },
  {
   "cell_type": "markdown",
   "metadata": {},
   "source": [
    "### Example 3: Word Count"
   ]
  },
  {
   "cell_type": "code",
   "execution_count": 25,
   "metadata": {},
   "outputs": [],
   "source": [
    "# Read the file into an RDD\n",
    "lines = sc.textFile(os.path.join(data_path, data_filename))"
   ]
  },
  {
   "cell_type": "code",
   "execution_count": 26,
   "metadata": {},
   "outputs": [
    {
     "data": {
      "text/plain": [
       "pyspark.rdd.RDD"
      ]
     },
     "execution_count": 26,
     "metadata": {},
     "output_type": "execute_result"
    }
   ],
   "source": [
    "type(lines)"
   ]
  },
  {
   "cell_type": "code",
   "execution_count": 27,
   "metadata": {},
   "outputs": [],
   "source": [
    "words = lines.flatMap(lambda x: x.split())"
   ]
  },
  {
   "cell_type": "code",
   "execution_count": 28,
   "metadata": {},
   "outputs": [
    {
     "data": {
      "text/plain": [
       "['#', 'Apache', 'Spark', 'Spark', 'is']"
      ]
     },
     "execution_count": 28,
     "metadata": {},
     "output_type": "execute_result"
    }
   ],
   "source": [
    "words.take(5)"
   ]
  },
  {
   "cell_type": "code",
   "execution_count": 29,
   "metadata": {},
   "outputs": [],
   "source": [
    "wordcounts = words.map(lambda x: (x, 1)) \\\n",
    "                  .reduceByKey(lambda x,y:x+y) \\\n",
    "                  .map(lambda x:(x[1],x[0])) \\\n",
    "                  .sortByKey(False)"
   ]
  },
  {
   "cell_type": "code",
   "execution_count": 33,
   "metadata": {},
   "outputs": [
    {
     "data": {
      "text/plain": [
       "[('#', 1), ('Apache', 1), ('Spark', 1), ('Spark', 1), ('is', 1)]"
      ]
     },
     "execution_count": 33,
     "metadata": {},
     "output_type": "execute_result"
    }
   ],
   "source": [
    "wordcounts = words.map(lambda x: (x, 1))\n",
    "wordcounts.take(5)"
   ]
  },
  {
   "cell_type": "code",
   "execution_count": 38,
   "metadata": {},
   "outputs": [
    {
     "data": {
      "text/plain": [
       "[('#', 1), ('Apache', 1), ('Spark', 16), ('is', 6), ('a', 8)]"
      ]
     },
     "execution_count": 38,
     "metadata": {},
     "output_type": "execute_result"
    }
   ],
   "source": [
    "wordcounts = words.map(lambda x: (x, 1)) \\\n",
    "                  .reduceByKey(lambda x,y:x+y)\n",
    "wordcounts.take(5)"
   ]
  },
  {
   "cell_type": "code",
   "execution_count": null,
   "metadata": {},
   "outputs": [],
   "source": [
    "wordcounts = words.map(lambda x: (x, 1)) \\\n",
    "                  .reduceByKey(lambda x,y:x+y) \\\n",
    "                  .map(lambda x:(x[1],x[0]))\n",
    "wordcounts.take(5)"
   ]
  },
  {
   "cell_type": "code",
   "execution_count": 30,
   "metadata": {},
   "outputs": [
    {
     "data": {
      "text/plain": [
       "[(24, 'the'),\n",
       " (17, 'to'),\n",
       " (16, 'Spark'),\n",
       " (12, 'for'),\n",
       " (9, 'and'),\n",
       " (9, '##'),\n",
       " (8, 'a'),\n",
       " (7, 'can'),\n",
       " (7, 'on'),\n",
       " (7, 'run')]"
      ]
     },
     "execution_count": 30,
     "metadata": {},
     "output_type": "execute_result"
    }
   ],
   "source": [
    "wordcounts.take(10)"
   ]
  },
  {
   "cell_type": "code",
   "execution_count": null,
   "metadata": {},
   "outputs": [],
   "source": []
  }
 ],
 "metadata": {
  "kernelspec": {
   "display_name": "Python 3",
   "language": "python",
   "name": "python3"
  },
  "language_info": {
   "codemirror_mode": {
    "name": "ipython",
    "version": 3
   },
   "file_extension": ".py",
   "mimetype": "text/x-python",
   "name": "python",
   "nbconvert_exporter": "python",
   "pygments_lexer": "ipython3",
   "version": "3.6.3"
  }
 },
 "nbformat": 4,
 "nbformat_minor": 2
}
