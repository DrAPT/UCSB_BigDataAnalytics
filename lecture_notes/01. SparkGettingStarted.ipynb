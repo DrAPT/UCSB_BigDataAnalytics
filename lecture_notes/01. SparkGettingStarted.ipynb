{
 "cells": [
  {
   "cell_type": "markdown",
   "metadata": {},
   "source": [
    "## Spark Getting Started\n",
    "\n",
    "### University of California, Santa Barbara  \n",
    "### PSTAT 135/235  \n",
    "### Last Updated: Dec 12, 2018\n",
    "\n",
    "---  \n",
    "\n",
    "\n",
    "Source: Learning Spark\n",
    "\n",
    "Chapter 1: Introduction to Data Analysis with Spark  \n",
    "Chapter 2: Getting Started\n",
    "\n",
    "### OBJECTIVES\n",
    "-  Spark background\n",
    "-  Setup and installation\n",
    "-  Basic concepts\n",
    "-  Minimal code examples\n",
    "-  Running Spark: Interactive Session\n",
    "-  Running Spark: Command Line\n",
    "\n",
    "### CONCEPTS\n",
    "\n",
    "- Functional programming\n",
    "\n",
    "- SparkSession - single point of entry to interact w Spark functionality\n",
    "\n",
    "- SparkContext - used as entry points, from Spark 1.0\n",
    "\n",
    "- Resilient Distributed Datasets (RDDs) - Spark’s fundamental abstraction for distributed data and computation\n",
    "\n",
    "- Dataset\n",
    "\n",
    "- Driver Program - contains application main function, defines RDDs on cluster, applies operations to them.\n",
    "\n",
    "- Worker Node or Executor - the units that perform tasks\n",
    "\n",
    "---\n",
    "\n",
    "*Spark Background*\n",
    "\n",
    "- Designed to be fast  \n",
    "no waiting around for hours, need to work interactively with data  \n",
    "\n",
    "\n",
    "- Designed to handle big data\n",
    "\n",
    "\n",
    "- General Purpose  \n",
    "Unlike Hadoop, several modules in one place, such as machine learning, batch, queries, streaming\n",
    "\n",
    "\n",
    "- Caching is possible, so intermediate data can be stored in memory on workers\n",
    "\n",
    "\n",
    "- Highly accessible:simple APIs to Python, Java, Scala, R, SQL  \n",
    "Integrates w other Big Data tools such as Hadoop, Cassandra  \n",
    "Can access HDFS data, Amazon S3, and others\n",
    "\n",
    "\n",
    "**Documentation from README**  \n",
    "You can find the latest Spark documentation, including a programming\n",
    "guide, on the [project web page](http://spark.apache.org/documentation.html).\n",
    "\n",
    "For general development tips, including info on developing Spark using an IDE, see   \n",
    "[http://spark.apache.org/developer-tools.html](the Useful Developer Tools page).\n",
    "\n",
    "Spark also comes with several sample programs in the `examples` directory.  \n",
    "To run one of them in a shell, use `./bin/run-example <class> [params]`.  \n",
    "\n",
    "For example:"
   ]
  },
  {
   "cell_type": "code",
   "execution_count": null,
   "metadata": {},
   "outputs": [],
   "source": [
    "./bin/run-example SparkPi"
   ]
  },
  {
   "cell_type": "markdown",
   "metadata": {},
   "source": [
    "will run the Pi example locally.\n",
    "\n",
    "**Install**  \n",
    "\n",
    "Page 9 provides step-by-step download and install instructions\n",
    "\n",
    "Depends:\n",
    "1. Python needs to be installed\n",
    "2. Java 6 or higher needs to be installed\n",
    "\n",
    "Change logging level (Page 12), change from: \n",
    "\n",
    "log4j.rootCategory=INFO  \n",
    "\n",
    "To  \n",
    "\n",
    "log4j.rootCategory=WARN  \n",
    "\n",
    "# Interactive Python shell\n",
    "\n",
    "From installed location and using ($) to denote prompt:\n"
   ]
  },
  {
   "cell_type": "code",
   "execution_count": null,
   "metadata": {},
   "outputs": [],
   "source": [
    "$ bin\\pyspark"
   ]
  },
  {
   "cell_type": "markdown",
   "metadata": {},
   "source": [
    "Set up a minimal case Spark Session:\n",
    "- using the local machine as master\n",
    "- naming the app"
   ]
  },
  {
   "cell_type": "code",
   "execution_count": 1,
   "metadata": {},
   "outputs": [],
   "source": [
    "from pyspark.sql import SparkSession\n",
    "\n",
    "spark = SparkSession.builder \\\n",
    "        .master(\"local\") \\\n",
    "        .appName(\"pspark_test\") \\\n",
    "        .getOrCreate()"
   ]
  },
  {
   "cell_type": "code",
   "execution_count": 2,
   "metadata": {},
   "outputs": [
    {
     "data": {
      "text/html": [
       "\n",
       "            <div>\n",
       "                <p><b>SparkSession - in-memory</b></p>\n",
       "                \n",
       "        <div>\n",
       "            <p><b>SparkContext</b></p>\n",
       "\n",
       "            <p><a href=\"http://jupyter-adamtashman314:4040\">Spark UI</a></p>\n",
       "\n",
       "            <dl>\n",
       "              <dt>Version</dt>\n",
       "                <dd><code>v2.3.1</code></dd>\n",
       "              <dt>Master</dt>\n",
       "                <dd><code>local</code></dd>\n",
       "              <dt>AppName</dt>\n",
       "                <dd><code>pspark_test</code></dd>\n",
       "            </dl>\n",
       "        </div>\n",
       "        \n",
       "            </div>\n",
       "        "
      ],
      "text/plain": [
       "<pyspark.sql.session.SparkSession at 0x7f2044d8fc88>"
      ]
     },
     "execution_count": 2,
     "metadata": {},
     "output_type": "execute_result"
    }
   ],
   "source": [
    "# print info about the session\n",
    "spark"
   ]
  },
  {
   "cell_type": "code",
   "execution_count": 3,
   "metadata": {},
   "outputs": [],
   "source": [
    "sc = spark.sparkContext"
   ]
  },
  {
   "cell_type": "markdown",
   "metadata": {},
   "source": [
    "\n",
    "### RDDs and Datasets\n",
    "\n",
    "Before Spark 2.0, the main programming interface of Spark was the *Resilient Distributed Dataset (RDD)*.  \n",
    "\n",
    "After Spark 2.0, RDDs are replaced by *Dataset*, which is strongly-typed like an RDD, but with richer optimizations under the hood. \n",
    "\n",
    "The RDD interface is still supported  \n",
    "\n",
    "Using Dataset is recommended, and it has better performance than RDD."
   ]
  },
  {
   "cell_type": "markdown",
   "metadata": {},
   "source": [
    "## Computing\n",
    "\n",
    "### Example 1: Read lines from text file"
   ]
  },
  {
   "cell_type": "code",
   "execution_count": 4,
   "metadata": {},
   "outputs": [],
   "source": [
    "import os"
   ]
  },
  {
   "cell_type": "code",
   "execution_count": 5,
   "metadata": {},
   "outputs": [],
   "source": [
    "data_path = '/home/jovyan/UCSB_BigDataAnalytics/data/'"
   ]
  },
  {
   "cell_type": "code",
   "execution_count": 6,
   "metadata": {},
   "outputs": [],
   "source": [
    "data_filename = 'README.md'"
   ]
  },
  {
   "cell_type": "code",
   "execution_count": 7,
   "metadata": {},
   "outputs": [],
   "source": [
    "lines = spark.read.text(os.path.join(data_path, data_filename))"
   ]
  },
  {
   "cell_type": "code",
   "execution_count": null,
   "metadata": {},
   "outputs": [],
   "source": [
    "lines.count()"
   ]
  },
  {
   "cell_type": "code",
   "execution_count": null,
   "metadata": {},
   "outputs": [],
   "source": [
    "lines.first()"
   ]
  },
  {
   "cell_type": "code",
   "execution_count": null,
   "metadata": {},
   "outputs": [],
   "source": [
    "lines.collect()"
   ]
  },
  {
   "cell_type": "code",
   "execution_count": null,
   "metadata": {},
   "outputs": [],
   "source": [
    "type(lines.collect())"
   ]
  },
  {
   "cell_type": "code",
   "execution_count": null,
   "metadata": {},
   "outputs": [],
   "source": [
    "type(lines.collect()[0])"
   ]
  },
  {
   "cell_type": "markdown",
   "metadata": {},
   "source": [
    "### Example 2: Text Search  - print all lines containing “Spark”"
   ]
  },
  {
   "cell_type": "code",
   "execution_count": null,
   "metadata": {},
   "outputs": [],
   "source": [
    "spark_lines.columns"
   ]
  },
  {
   "cell_type": "code",
   "execution_count": 88,
   "metadata": {},
   "outputs": [],
   "source": [
    "spark_lines = lines.filter(lines.value.contains(\"Spark\"))"
   ]
  },
  {
   "cell_type": "code",
   "execution_count": 9,
   "metadata": {},
   "outputs": [],
   "source": [
    "# return list of first 5 records\n",
    "spark_lines.take(5)   "
   ]
  },
  {
   "cell_type": "code",
   "execution_count": null,
   "metadata": {},
   "outputs": [],
   "source": [
    "type(spark_lines)"
   ]
  },
  {
   "cell_type": "markdown",
   "metadata": {},
   "source": [
    "### Example 3: Word Count"
   ]
  },
  {
   "cell_type": "code",
   "execution_count": 113,
   "metadata": {},
   "outputs": [],
   "source": [
    "# Read the file into an RDD\n",
    "lines = sc.textFile(os.path.join(data_path, data_filename))"
   ]
  },
  {
   "cell_type": "code",
   "execution_count": null,
   "metadata": {},
   "outputs": [],
   "source": [
    "type(lines)"
   ]
  },
  {
   "cell_type": "code",
   "execution_count": 116,
   "metadata": {},
   "outputs": [],
   "source": [
    "words = lines.flatMap(lambda x: x.split())"
   ]
  },
  {
   "cell_type": "code",
   "execution_count": null,
   "metadata": {},
   "outputs": [],
   "source": [
    "words.take(5)"
   ]
  },
  {
   "cell_type": "code",
   "execution_count": 122,
   "metadata": {},
   "outputs": [],
   "source": [
    "wordcounts = words.map(lambda x: (x, 1)) \\\n",
    "                  .reduceByKey(lambda x,y:x+y) \\\n",
    "                  .map(lambda x:(x[1],x[0])) \\\n",
    "                  .sortByKey(False)"
   ]
  },
  {
   "cell_type": "code",
   "execution_count": null,
   "metadata": {},
   "outputs": [],
   "source": [
    "wordcounts.take(10)"
   ]
  },
  {
   "cell_type": "code",
   "execution_count": null,
   "metadata": {},
   "outputs": [],
   "source": []
  }
 ],
 "metadata": {
  "kernelspec": {
   "display_name": "Python 3",
   "language": "python",
   "name": "python3"
  },
  "language_info": {
   "codemirror_mode": {
    "name": "ipython",
    "version": 3
   },
   "file_extension": ".py",
   "mimetype": "text/x-python",
   "name": "python",
   "nbconvert_exporter": "python",
   "pygments_lexer": "ipython3",
   "version": "3.6.3"
  }
 },
 "nbformat": 4,
 "nbformat_minor": 2
}
