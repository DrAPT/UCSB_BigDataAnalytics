{
 "cells": [
  {
   "cell_type": "markdown",
   "metadata": {},
   "source": [
    "## Project 1: Analytics on Glassdoor Reviews and Yelp Category Data\n",
    "\n",
    "### University of California, Santa Barbara  \n",
    "### PSTAT 135/235  \n",
    "### Last Updated: Nov 2, 2018"
   ]
  },
  {
   "cell_type": "markdown",
   "metadata": {},
   "source": [
    "### OBJECTIVE  \n",
    "#### In this assignment, you will perform some basic analytics on review and category data.\n",
    "#### This will entail performing operations on *RDDs*, and using *list comprehensions*.\n",
    "#### Read in the dataset and perform the steps requested below.\n",
    "\n",
    "#### TOTAL POINTS = 10"
   ]
  },
  {
   "cell_type": "markdown",
   "metadata": {},
   "source": [
    "### Config Setup"
   ]
  },
  {
   "cell_type": "code",
   "execution_count": 29,
   "metadata": {
    "collapsed": true
   },
   "outputs": [],
   "source": [
    "from pyspark.sql import SparkSession\n",
    "\n",
    "spark = SparkSession \\\n",
    "    .builder \\\n",
    "    .master(\"local\") \\\n",
    "    .appName(\"review_and_category_analytics\") \\\n",
    "    .config(\"spark.executor.memory\", '8g') \\\n",
    "    .config('spark.executor.cores', '4') \\\n",
    "    .config('spark.cores.max', '4') \\\n",
    "    .config(\"spark.driver.memory\",'8g') \\\n",
    "    .getOrCreate()\n",
    "\n",
    "sc = spark.sparkContext"
   ]
  },
  {
   "cell_type": "markdown",
   "metadata": {},
   "source": [
    "Read in the dataset  \n",
    "The dataset is saved in the *data* folder. Notice the pathing below, with NO forward slash in front of *data*"
   ]
  },
  {
   "cell_type": "code",
   "execution_count": 32,
   "metadata": {
    "collapsed": true
   },
   "outputs": [],
   "source": [
    "df = sc.textFile(\"data/reviews_and_categories.csv\")"
   ]
  },
  {
   "cell_type": "code",
   "execution_count": 33,
   "metadata": {
    "collapsed": false
   },
   "outputs": [
    {
     "data": {
      "text/plain": [
       "['index,review,categories',\n",
       " '0,,\"[\\'point of interest\\', \\'mexican\\', \\'establishment\\', \\'food\\', \\'restaurant\\']\"',\n",
       " '1,,[]']"
      ]
     },
     "execution_count": 33,
     "metadata": {},
     "output_type": "execute_result"
    }
   ],
   "source": [
    "df.take(3)"
   ]
  },
  {
   "cell_type": "code",
   "execution_count": 13,
   "metadata": {
    "collapsed": true
   },
   "outputs": [],
   "source": [
    "header = df.first()"
   ]
  },
  {
   "cell_type": "code",
   "execution_count": 14,
   "metadata": {
    "collapsed": false
   },
   "outputs": [
    {
     "data": {
      "text/plain": [
       "'index,review,categories'"
      ]
     },
     "execution_count": 14,
     "metadata": {},
     "output_type": "execute_result"
    }
   ],
   "source": [
    "header"
   ]
  },
  {
   "cell_type": "markdown",
   "metadata": {},
   "source": [
    "get non-header records"
   ]
  },
  {
   "cell_type": "code",
   "execution_count": 16,
   "metadata": {
    "collapsed": true
   },
   "outputs": [],
   "source": [
    "data = df.filter(lambda r: r != header) \\\n",
    "        .map(lambda row: [e for e in row.split(',')])"
   ]
  },
  {
   "cell_type": "markdown",
   "metadata": {},
   "source": [
    "print the first 2 records (note: exclude the header in all calculations)"
   ]
  },
  {
   "cell_type": "code",
   "execution_count": 34,
   "metadata": {
    "collapsed": false
   },
   "outputs": [
    {
     "data": {
      "text/plain": [
       "[['0',\n",
       "  '',\n",
       "  '\"[\\'point of interest\\'',\n",
       "  \" 'mexican'\",\n",
       "  \" 'establishment'\",\n",
       "  \" 'food'\",\n",
       "  ' \\'restaurant\\']\"'],\n",
       " ['1', '', '[]']]"
      ]
     },
     "execution_count": 34,
     "metadata": {},
     "output_type": "execute_result"
    }
   ],
   "source": [
    "data.take(2)"
   ]
  },
  {
   "cell_type": "markdown",
   "metadata": {},
   "source": [
    "**1) get a record count (2 POINTS)**"
   ]
  },
  {
   "cell_type": "code",
   "execution_count": 35,
   "metadata": {
    "collapsed": false
   },
   "outputs": [
    {
     "data": {
      "text/plain": [
       "1305"
      ]
     },
     "execution_count": 35,
     "metadata": {},
     "output_type": "execute_result"
    }
   ],
   "source": [
    "data.count()"
   ]
  },
  {
   "cell_type": "markdown",
   "metadata": {},
   "source": [
    "store records with non-empty *review_emp_txt*"
   ]
  },
  {
   "cell_type": "code",
   "execution_count": 41,
   "metadata": {
    "collapsed": true
   },
   "outputs": [],
   "source": [
    "data_has_review = data.map(lambda r: (r[0],r[1],r[2:])) \\\n",
    "                    .filter(lambda r: r[1] != '')"
   ]
  },
  {
   "cell_type": "markdown",
   "metadata": {},
   "source": [
    "**2) get a count of records with non-missing reviews (2 POINTS)**"
   ]
  },
  {
   "cell_type": "code",
   "execution_count": 42,
   "metadata": {
    "collapsed": false
   },
   "outputs": [
    {
     "data": {
      "text/plain": [
       "305"
      ]
     },
     "execution_count": 42,
     "metadata": {},
     "output_type": "execute_result"
    }
   ],
   "source": [
    "data_has_review.count()"
   ]
  },
  {
   "cell_type": "code",
   "execution_count": 43,
   "metadata": {
    "collapsed": false
   },
   "outputs": [
    {
     "data": {
      "text/plain": [
       "[('3',\n",
       "  '\"Some franchise owners dock hours. Pros Good discounts on the food. Cons The location where I was working',\n",
       "  [' in North Fresno near Riverpark Mall',\n",
       "   ' was ran by the owner s father who treated the female staff with contempt and derision. Would yell at the staff',\n",
       "   ' in front of the guests',\n",
       "   ' if they didn t exactly follow his formula for making the sandwiches (even when the staff were trying to fulfill the special requests of the guests). He would clock out the closers (with or without their knowledge) before they were done with their tasks',\n",
       "   ' and ask employees to stay an hour or two past the end of their shift',\n",
       "   ' but would not pay them for their time.\"',\n",
       "   '\"[\\'lunch\\'',\n",
       "   \" 'best sandwich'\",\n",
       "   \" 'entertainment'\",\n",
       "   \" 'restaurants'\",\n",
       "   \" 'sub'\",\n",
       "   \" 'arizona'\",\n",
       "   \" 'quick'\",\n",
       "   \" 'social networks'\",\n",
       "   \" 'washington'\",\n",
       "   \" 'catering reno'\",\n",
       "   \" 'establishment'\",\n",
       "   \" 'nevada'\",\n",
       "   \" 'restaurant'\",\n",
       "   \" 'wraps'\",\n",
       "   \" 'qsr'\",\n",
       "   \" 'small business'\",\n",
       "   \" 'meal takeaway'\",\n",
       "   \" 'hospitality'\",\n",
       "   \" 'sandwich'\",\n",
       "   \" 'franchise'\",\n",
       "   \" 'seminars'\",\n",
       "   \" 'deli'\",\n",
       "   \" 'point of interest'\",\n",
       "   \" 'sandwiches'\",\n",
       "   \" 'port'\",\n",
       "   \" 'other'\",\n",
       "   \" 'food'\",\n",
       "   \" 'party trays reno'\",\n",
       "   \" 'service'\",\n",
       "   \" 'entrepeneur'\",\n",
       "   \" 'franchises'\",\n",
       "   \" 'fast food'\",\n",
       "   \" 'grillers'\",\n",
       "   \" 'griller'\",\n",
       "   \" 'salad'\",\n",
       "   \" 'management'\",\n",
       "   \" 'businesses'\",\n",
       "   \" 'self employed'\",\n",
       "   \" 'wrap'\",\n",
       "   \" 'submarine'\",\n",
       "   \" 'delis'\",\n",
       "   \" 'lake tahoe'\",\n",
       "   \" 'boss'\",\n",
       "   \" 'salads'\",\n",
       "   \" 'trade shows'\",\n",
       "   \" 'eating places'\",\n",
       "   \" 'franchising'\",\n",
       "   \" 'reno'\",\n",
       "   \" 'subs'\",\n",
       "   ' \\'phoenix\\']\"']),\n",
       " ('10',\n",
       "  '\"Bushs chicken..more writeups then checks Pros Paid weekly. Nice visor If you have another job they ll work with your schedule Cons This is for belton 1 near the hs. Stuck on counter and drink duty..no tips because customers are too cheap. Carhops are paid way more. I signed up for that but it was only given to veterans. Unrealistic expectations for closing on time. As front of house',\n",
       "  [' you clean the restaurant part',\n",
       "   ' the bathrooms and are still expected to serve customers until 9 00pm..it gets dirty again just silly. Some unrealistic time for getting your duty done and yet u still get wrote up. Why even clean well You might as well work half butt. Most of my writeups were for this. How does 1 person do everything for the front while the carhops get to work more as a team at closing time. Little odd how they run it. I worked at sonic and was only given 1 write up in 8 months and not for cleaning up at the end..just amateur. Here 6 in 2 months. Too many chiefs not enough Indians. I HIGHLY don t recommend working if you re considered cheap labor like I was. Got hired somewhere else knowing I was gonna be fired eventually. There is literally no business in the restaurant only outside. They re looking for the cheapest labor but they are the quickest to be written up. Other restaurants truly value their lowest paid workers. Beware do not work here!\"',\n",
       "   '\"[\\'fried chicken joint\\'',\n",
       "   \" 'american restaurant'\",\n",
       "   \" 'chicken wings'\",\n",
       "   \" 'restaurants'\",\n",
       "   \" 'no outdoor seating'\",\n",
       "   \" 'price'\",\n",
       "   \" 'dining options'\",\n",
       "   \" ' livers'\",\n",
       "   \" 'fried chicken'\",\n",
       "   \" 'gizzards'\",\n",
       "   \" 'fast food restaurant'\",\n",
       "   \" 'fast food'\",\n",
       "   \" 'eating places'\",\n",
       "   \" 'point of interest'\",\n",
       "   \" 'restaurant'\",\n",
       "   \" 'dinner\",\n",
       "   \" lunch & more'\",\n",
       "   \" 'menus'\",\n",
       "   \" ' sweet tea'\",\n",
       "   \" 'establishment'\",\n",
       "   \" 'other'\",\n",
       "   ' \\'food\\']\"']),\n",
       " ('19',\n",
       "  'cashier Pros fun environment and employees were friendly Cons Sometimes they do not have enough employees',\n",
       "  ['\"[\\'credit cards\\'',\n",
       "   \" 'restaurants'\",\n",
       "   \" 'no reservations'\",\n",
       "   \" 'no outdoor seating'\",\n",
       "   \" 'colorado'\",\n",
       "   \" 'menus'\",\n",
       "   \" 'style pizza'\",\n",
       "   \" 'establishment'\",\n",
       "   \" 'price'\",\n",
       "   \" '90 min'\",\n",
       "   \" 'point of interest'\",\n",
       "   \" 'pizza'\",\n",
       "   \" 'other'\",\n",
       "   \" 'food'\",\n",
       "   \" 'dining options'\",\n",
       "   \" 'italian'\",\n",
       "   \" 'napoleon'\",\n",
       "   \" 'pizza place'\",\n",
       "   \" 'delivery'\",\n",
       "   \" 'denver'\",\n",
       "   \" 'dinner\",\n",
       "   \" lunch & more'\",\n",
       "   \" 'eating places'\",\n",
       "   \" 'boulder'\",\n",
       "   \" 'restaurant'\",\n",
       "   ' \\'building\\']\"'])]"
      ]
     },
     "execution_count": 43,
     "metadata": {},
     "output_type": "execute_result"
    }
   ],
   "source": [
    "data_has_review.take(3)"
   ]
  },
  {
   "cell_type": "markdown",
   "metadata": {},
   "source": [
    "**3) Return the count of records where review contains the word *awesome*  (2 POINTS)**"
   ]
  },
  {
   "cell_type": "code",
   "execution_count": 44,
   "metadata": {
    "collapsed": true
   },
   "outputs": [],
   "source": [
    "awesome_records = data_has_review.map(lambda r: r[1]) \\\n",
    "                .filter(lambda r: 'awesome' in r)"
   ]
  },
  {
   "cell_type": "code",
   "execution_count": 45,
   "metadata": {
    "collapsed": false
   },
   "outputs": [
    {
     "data": {
      "text/plain": [
       "3"
      ]
     },
     "execution_count": 45,
     "metadata": {},
     "output_type": "execute_result"
    }
   ],
   "source": [
    "awesome_records.count()"
   ]
  },
  {
   "cell_type": "markdown",
   "metadata": {},
   "source": [
    "Print the records where review contains the word *awesome*"
   ]
  },
  {
   "cell_type": "code",
   "execution_count": 46,
   "metadata": {
    "collapsed": false
   },
   "outputs": [
    {
     "data": {
      "text/plain": [
       "['Very awesome. Pros They allow the use of flexible schedule. Cons There are too many hostesses.',\n",
       " 'Not a bad place to work Pros The couple that owned the one I worked at were very big on school and very flexible with my school schedule Being a delivery driver is great because the tips are awesome Cons The owner was kind of crazy I m kind of a health freak and just don t like working with pizza',\n",
       " '\"Cashier Play Attendant Pros The kids are awesome it feels like a family everyone is willing to help awesome food discount Cons needs new equipment like a new espresso machine']"
      ]
     },
     "execution_count": 46,
     "metadata": {},
     "output_type": "execute_result"
    }
   ],
   "source": [
    "awesome_records.collect()"
   ]
  },
  {
   "cell_type": "markdown",
   "metadata": {},
   "source": [
    "4) Lowercase all reviews, then return the count of records where review contains the word *awesome*"
   ]
  },
  {
   "cell_type": "code",
   "execution_count": 47,
   "metadata": {
    "collapsed": true
   },
   "outputs": [],
   "source": [
    "awesome_records_lower = data_has_review.map(lambda r: r[1].lower()) \\\n",
    "                .filter(lambda r: 'awesome' in r) \\"
   ]
  },
  {
   "cell_type": "code",
   "execution_count": 48,
   "metadata": {
    "collapsed": false
   },
   "outputs": [
    {
     "data": {
      "text/plain": [
       "['very awesome. pros they allow the use of flexible schedule. cons there are too many hostesses.',\n",
       " 'not a bad place to work pros the couple that owned the one i worked at were very big on school and very flexible with my school schedule being a delivery driver is great because the tips are awesome cons the owner was kind of crazy i m kind of a health freak and just don t like working with pizza',\n",
       " '\"cashier play attendant pros the kids are awesome it feels like a family everyone is willing to help awesome food discount cons needs new equipment like a new espresso machine',\n",
       " 'busboy pros flexible schedule decent tips awesome coworkers 50 employee discount on meals cons physically demanding long hours rude and or impatient customers',\n",
       " '\"awesome place to work pros management is laid back and the work environment is relaxed. everyone that works there is willing to help when you need anything. lots of college kids work there because it is a college town. it s a tremendous job for anyone in boone though. cons there are no cons to working here from my perspective. the job can be high pressure because the restaurant is always busy']"
      ]
     },
     "execution_count": 48,
     "metadata": {},
     "output_type": "execute_result"
    }
   ],
   "source": [
    "awesome_records_lower.collect()"
   ]
  },
  {
   "cell_type": "code",
   "execution_count": 49,
   "metadata": {
    "collapsed": false
   },
   "outputs": [
    {
     "data": {
      "text/plain": [
       "5"
      ]
     },
     "execution_count": 49,
     "metadata": {},
     "output_type": "execute_result"
    }
   ],
   "source": [
    "awesome_records_lower.count()"
   ]
  },
  {
   "cell_type": "markdown",
   "metadata": {},
   "source": [
    "**4) Return the top 10 most frequent categories  (4 POINTS)**  \n",
    "\n",
    "Preprocess the categories by:  \n",
    "* stripping characters: &nbsp; [ &nbsp; ] &nbsp;  ' &nbsp;  \"  \n",
    "* trim spaces before and after words  \n",
    "* lowercase\n",
    "\n",
    "NOTE: Be sure to keep terms together, for example 'jet skiing' should not become 'jet', 'skiing'"
   ]
  },
  {
   "cell_type": "code",
   "execution_count": 24,
   "metadata": {
    "collapsed": true
   },
   "outputs": [],
   "source": [
    "cats=data.map(lambda r: r[2:]) "
   ]
  },
  {
   "cell_type": "code",
   "execution_count": 25,
   "metadata": {
    "collapsed": false
   },
   "outputs": [
    {
     "data": {
      "text/plain": [
       "[['\"[\\'point of interest\\'',\n",
       "  \" 'mexican'\",\n",
       "  \" 'establishment'\",\n",
       "  \" 'food'\",\n",
       "  ' \\'restaurant\\']\"'],\n",
       " ['[]'],\n",
       " ['\"[\\'other\\'', ' \\'food & beverages\\']\"']]"
      ]
     },
     "execution_count": 25,
     "metadata": {},
     "output_type": "execute_result"
    }
   ],
   "source": [
    "cats.take(3)"
   ]
  },
  {
   "cell_type": "code",
   "execution_count": 26,
   "metadata": {
    "collapsed": true
   },
   "outputs": [],
   "source": [
    "cats_flat = cats.map(lambda row: [token.replace('[','') \\\n",
    "                                .replace(']','') \\\n",
    "                                .replace(\"'\",'') \\\n",
    "                                .replace('\"','') \\\n",
    "                                .strip() \\\n",
    "                                .lower() for token in row]) \\\n",
    "                                .flatMap(lambda x: x) \\\n",
    "                                .map(lambda x: (x,1)) \\\n",
    "                                .reduceByKey(lambda x,y:x+y) \\\n",
    "                                .map(lambda x:(x[1],x[0])) \\\n",
    "                                .sortByKey(False) "
   ]
  },
  {
   "cell_type": "code",
   "execution_count": 27,
   "metadata": {
    "collapsed": false
   },
   "outputs": [
    {
     "data": {
      "text/plain": [
       "[(718, 'point of interest'),\n",
       " (718, 'establishment'),\n",
       " (717, 'food'),\n",
       " (660, 'restaurant'),\n",
       " (497, 'price'),\n",
       " (483, 'other'),\n",
       " (439, ''),\n",
       " (332, 'credit cards'),\n",
       " (311, 'menus'),\n",
       " (292, 'eating places')]"
      ]
     },
     "execution_count": 27,
     "metadata": {},
     "output_type": "execute_result"
    }
   ],
   "source": [
    "cats_flat.take(10)"
   ]
  }
 ],
 "metadata": {
  "anaconda-cloud": {},
  "kernelspec": {
   "display_name": "Python [default]",
   "language": "python",
   "name": "python3"
  },
  "language_info": {
   "codemirror_mode": {
    "name": "ipython",
    "version": 3
   },
   "file_extension": ".py",
   "mimetype": "text/x-python",
   "name": "python",
   "nbconvert_exporter": "python",
   "pygments_lexer": "ipython3",
   "version": "3.5.2"
  }
 },
 "nbformat": 4,
 "nbformat_minor": 1
}
